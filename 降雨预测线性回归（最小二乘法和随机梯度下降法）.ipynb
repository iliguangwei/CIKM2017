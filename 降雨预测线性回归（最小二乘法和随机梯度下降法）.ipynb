{
 "cells": [
  {
   "cell_type": "code",
   "execution_count": 2,
   "metadata": {
    "collapsed": false
   },
   "outputs": [
    {
     "name": "stdout",
     "output_type": "stream",
     "text": [
      "<class 'pandas.core.frame.DataFrame'>\n",
      "RangeIndex: 10000 entries, 0 to 9999\n",
      "Data columns (total 16 columns):\n",
      "time0       10000 non-null float64\n",
      "time1       10000 non-null float64\n",
      "time2       10000 non-null float64\n",
      "time3       10000 non-null float64\n",
      "time4       10000 non-null float64\n",
      "time5       10000 non-null float64\n",
      "time6       10000 non-null float64\n",
      "time7       10000 non-null float64\n",
      "time8       10000 non-null float64\n",
      "time9       10000 non-null float64\n",
      "time10      10000 non-null float64\n",
      "time11      10000 non-null float64\n",
      "time12      10000 non-null float64\n",
      "time13      10000 non-null float64\n",
      "time14      10000 non-null float64\n",
      "rainfall    10000 non-null float64\n",
      "dtypes: float64(16)\n",
      "memory usage: 1.2 MB\n",
      "None\n",
      "<class 'pandas.core.frame.DataFrame'>\n",
      "RangeIndex: 2000 entries, 0 to 1999\n",
      "Data columns (total 16 columns):\n",
      "time0       2000 non-null float64\n",
      "time1       2000 non-null float64\n",
      "time2       2000 non-null float64\n",
      "time3       2000 non-null float64\n",
      "time4       2000 non-null float64\n",
      "time5       2000 non-null float64\n",
      "time6       2000 non-null float64\n",
      "time7       2000 non-null float64\n",
      "time8       2000 non-null float64\n",
      "time9       2000 non-null float64\n",
      "time10      2000 non-null float64\n",
      "time11      2000 non-null float64\n",
      "time12      2000 non-null float64\n",
      "time13      2000 non-null float64\n",
      "time14      2000 non-null float64\n",
      "rainfall    2000 non-null int64\n",
      "dtypes: float64(15), int64(1)\n",
      "memory usage: 250.1 KB\n",
      "None\n"
     ]
    }
   ],
   "source": [
    "#导入pandas方便数据读取和预处理\n",
    "import pandas as pd\n",
    "#分别对训练和测试数据从本地进行读取\n",
    "train=pd.read_csv(r'D:\\123\\CIKM2017-master\\train.csv')\n",
    "test=pd.read_csv(r'D:\\123\\CIKM2017-master\\test.csv')\n",
    "print train.info()\n",
    "print test.info()"
   ]
  },
  {
   "cell_type": "code",
   "execution_count": 3,
   "metadata": {
    "collapsed": true
   },
   "outputs": [],
   "source": [
    "import numpy as np\n",
    "#分离数据特征与预测目标\n",
    "y_train=train['rainfall']\n",
    "X_train=train.drop(['rainfall'],axis=1)\n",
    "y_test=test['rainfall']\n",
    "X_test=test.drop(['rainfall'],axis=1)"
   ]
  },
  {
   "cell_type": "code",
   "execution_count": 4,
   "metadata": {
    "collapsed": false
   },
   "outputs": [
    {
     "name": "stderr",
     "output_type": "stream",
     "text": [
      "D:\\Anaconda2\\lib\\site-packages\\sklearn\\preprocessing\\data.py:586: DeprecationWarning: Passing 1d arrays as data is deprecated in 0.17 and will raise ValueError in 0.19. Reshape your data either using X.reshape(-1, 1) if your data has a single feature or X.reshape(1, -1) if it contains a single sample.\n",
      "  warnings.warn(DEPRECATION_MSG_1D, DeprecationWarning)\n",
      "D:\\Anaconda2\\lib\\site-packages\\sklearn\\preprocessing\\data.py:649: DeprecationWarning: Passing 1d arrays as data is deprecated in 0.17 and will raise ValueError in 0.19. Reshape your data either using X.reshape(-1, 1) if your data has a single feature or X.reshape(1, -1) if it contains a single sample.\n",
      "  warnings.warn(DEPRECATION_MSG_1D, DeprecationWarning)\n",
      "D:\\Anaconda2\\lib\\site-packages\\sklearn\\utils\\validation.py:429: DataConversionWarning: Data with input dtype int64 was converted to float64 by StandardScaler.\n",
      "  warnings.warn(msg, _DataConversionWarning)\n",
      "D:\\Anaconda2\\lib\\site-packages\\sklearn\\preprocessing\\data.py:649: DeprecationWarning: Passing 1d arrays as data is deprecated in 0.17 and will raise ValueError in 0.19. Reshape your data either using X.reshape(-1, 1) if your data has a single feature or X.reshape(1, -1) if it contains a single sample.\n",
      "  warnings.warn(DEPRECATION_MSG_1D, DeprecationWarning)\n"
     ]
    }
   ],
   "source": [
    "from sklearn.preprocessing import StandardScaler\n",
    "ss_X=StandardScaler()\n",
    "ss_y=StandardScaler()\n",
    "\n",
    "X_train=ss_X.fit_transform(X_train)\n",
    "X_test=ss_X.transform(X_test)\n",
    "y_train=ss_y.fit_transform(y_train)\n",
    "y_test=ss_y.transform(y_test)"
   ]
  },
  {
   "cell_type": "code",
   "execution_count": 5,
   "metadata": {
    "collapsed": true
   },
   "outputs": [],
   "source": [
    "#从sklearn.linear_model导入LinearRegression\n",
    "from sklearn.linear_model import LinearRegression\n",
    "lr=LinearRegression()\n",
    "#使用训练数据进行拟合\n",
    "lr.fit(X_train,y_train)\n",
    "#对测试数据进行回归预测\n",
    "lr_y_predict=lr.predict(X_test)\n",
    "\n",
    "#从sklearn.linear_model导入SGDRegressor\n",
    "from sklearn.linear_model import SGDRegressor\n",
    "sgdr=SGDRegressor()\n",
    "sgdr.fit(X_train,y_train)\n",
    "sgdr_y_predict=sgdr.predict(X_test)"
   ]
  },
  {
   "cell_type": "code",
   "execution_count": 8,
   "metadata": {
    "collapsed": false
   },
   "outputs": [
    {
     "data": {
      "text/plain": [
       "array([-0.19590121,  0.56745121,  0.16031788, -1.03847353,  0.19529592,\n",
       "       -0.08618712,  1.04900667, -0.48027558, -0.59468902,  0.26848884,\n",
       "       -1.33997359,  1.13429196,  0.92038739, -1.77198934,  1.13927936])"
      ]
     },
     "execution_count": 8,
     "metadata": {},
     "output_type": "execute_result"
    }
   ],
   "source": [
    "#we designate the vector w = (w_1,..., w_p) as coef_ and w_0 as intercept_.\n",
    "lr.coef_\n"
   ]
  },
  {
   "cell_type": "code",
   "execution_count": 9,
   "metadata": {
    "collapsed": false
   },
   "outputs": [
    {
     "data": {
      "text/plain": [
       "-1.3058057153494246e-15"
      ]
     },
     "execution_count": 9,
     "metadata": {},
     "output_type": "execute_result"
    }
   ],
   "source": [
    "lr.intercept_"
   ]
  },
  {
   "cell_type": "code",
   "execution_count": null,
   "metadata": {
    "collapsed": true
   },
   "outputs": [],
   "source": [
    "#得分-从结果分析得分很差\n",
    "print lr.score(X_train,y_train)\n",
    "print sgdr.score(X_train,y_train)"
   ]
  },
  {
   "cell_type": "code",
   "execution_count": 10,
   "metadata": {
    "collapsed": false
   },
   "outputs": [
    {
     "name": "stdout",
     "output_type": "stream",
     "text": [
      "[ 0.02470414  0.05664945 -0.15897092 ...,  0.01689911  0.06968141\n",
      "  0.11094826]\n",
      "[ 0.00980645  0.08690336 -0.13206619 ...,  0.03131816  0.11367413\n",
      "  0.09550064]\n"
     ]
    }
   ],
   "source": [
    "print lr_y_predict\n",
    "print sgdr_y_predict"
   ]
  },
  {
   "cell_type": "code",
   "execution_count": 11,
   "metadata": {
    "collapsed": true
   },
   "outputs": [],
   "source": [
    "lr_y_predict_submission=pd.DataFrame({'rainfall':lr_y_predict})\n",
    "lr_y_predict_submission.to_csv(r'D:\\123\\CIKM2017-master\\lr_y_predict_submission.csv',index=False)"
   ]
  },
  {
   "cell_type": "code",
   "execution_count": null,
   "metadata": {
    "collapsed": true
   },
   "outputs": [],
   "source": []
  },
  {
   "cell_type": "code",
   "execution_count": null,
   "metadata": {
    "collapsed": true
   },
   "outputs": [],
   "source": []
  }
 ],
 "metadata": {
  "kernelspec": {
   "display_name": "Python 2",
   "language": "python",
   "name": "python2"
  },
  "language_info": {
   "codemirror_mode": {
    "name": "ipython",
    "version": 2
   },
   "file_extension": ".py",
   "mimetype": "text/x-python",
   "name": "python",
   "nbconvert_exporter": "python",
   "pygments_lexer": "ipython2",
   "version": "2.7.13"
  }
 },
 "nbformat": 4,
 "nbformat_minor": 2
}
